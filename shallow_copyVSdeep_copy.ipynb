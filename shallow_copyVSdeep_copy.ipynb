{
 "cells": [
  {
   "cell_type": "markdown",
   "metadata": {},
   "source": [
    "# Shallow vs deep copying"
   ]
  },
  {
   "cell_type": "markdown",
   "metadata": {},
   "source": [
    "In Python, assignment statements (obj2 = obj1) do not create real copies. It only creates a new variable with the same reference. So, when you want to make actual copies of mutable objects (lists, dicts) and want to modify the copy without affecting the original, you should have to be careful.\n",
    "For 'real' copies we can use the copy module or just write i.e obj2 = obj1. However, for compound/nested objects (e.g. nested lists or dicts) and custom objects there is an important difference between shallow and deep copying:\n",
    "\n",
    "    Shallow copies: Only one level deep. It creates a new collection object and populates it with references to the nested objects. This means modyfing a nested object in the copy deeper than one level affects the original.\n",
    "    Deep copies: A full independent clone. It creates a new collection object and then recursively populates it with copies of the nested objects found in the original."
   ]
  },
  {
   "cell_type": "markdown",
   "metadata": {},
   "source": [
    "# Assignment operation"
   ]
  },
  {
   "cell_type": "markdown",
   "metadata": {},
   "source": [
    "This will only create a new variable with the same reference. Modifying one will affect the other."
   ]
  },
  {
   "cell_type": "code",
   "execution_count": 7,
   "metadata": {},
   "outputs": [
    {
     "name": "stdout",
     "output_type": "stream",
     "text": [
      "previous list1:- [8, 9, 67, 45, 55]\n",
      "previous list2:- [8, 9, 67, 45, 55]\n",
      "later list1:- [10, 9, 67, 45, 55]\n",
      "later list2:- [10, 9, 67, 45, 55]\n"
     ]
    }
   ],
   "source": [
    "list1 = [8, 9, 67, 45, 55]\n",
    "list2 = list1\n",
    "print(\"previous list1:-\",list1)\n",
    "print(\"previous list2:-\",list2)\n",
    "\n",
    "list1[0] = 10\n",
    "print(\"later list1:-\",list1)\n",
    "print(\"later list2:-\",list2)"
   ]
  },
  {
   "cell_type": "markdown",
   "metadata": {},
   "source": [
    "# Shallow copy"
   ]
  },
  {
   "cell_type": "markdown",
   "metadata": {},
   "source": [
    "One level deep. Modifying on level 1 does not affect the other list. Use copy.copy(), or object-specific copy functions/copy constructors."
   ]
  },
  {
   "cell_type": "code",
   "execution_count": 9,
   "metadata": {},
   "outputs": [
    {
     "name": "stdout",
     "output_type": "stream",
     "text": [
      "previous list1:- [1, 2, 3, 4, 5]\n",
      "previous list2:- [1, 2, 3, 4, 5]\n",
      "later list1:- [10, 2, 3, 4, 5]\n",
      "later list2:- [1, 2, 3, 4, 5]\n"
     ]
    }
   ],
   "source": [
    "import copy\n",
    "list1 = [1, 2, 3, 4, 5]\n",
    "list2 = copy.copy(list1)\n",
    "print(\"previous list1:-\",list1)\n",
    "print(\"previous list2:-\",list2)\n",
    "\n",
    "## not affects the other list\n",
    "list1[0] = 10\n",
    "print(\"later list1:-\",list1)\n",
    "print(\"later list2:-\",list2)"
   ]
  },
  {
   "cell_type": "markdown",
   "metadata": {},
   "source": [
    "But with nested objects, modifying on level 2 or deeper does affect the other!"
   ]
  },
  {
   "cell_type": "code",
   "execution_count": 11,
   "metadata": {},
   "outputs": [
    {
     "name": "stdout",
     "output_type": "stream",
     "text": [
      "previous list1:- [[1, 2, 3, 4, 5], [6, 7, 8, 9, 10]]\n",
      "previous list2:- [1, 2, 3, 4, 5]\n",
      "later list1:- [10, [6, 7, 8, 9, 10]]\n",
      "later list2:- [1, 2, 3, 4, 5]\n"
     ]
    }
   ],
   "source": [
    "import copy\n",
    "list1 = [[1, 2, 3, 4, 5], [6, 7, 8, 9, 10]]\n",
    "list1 = copy.copy(list1)\n",
    "print(\"previous list1:-\",list1)\n",
    "print(\"previous list2:-\",list2)\n",
    "\n",
    "## affects the other!\n",
    "list1[0] = 10\n",
    "print(\"later list1:-\",list1)\n",
    "print(\"later list2:-\",list2)"
   ]
  },
  {
   "cell_type": "markdown",
   "metadata": {},
   "source": [
    "# Deep copies"
   ]
  },
  {
   "cell_type": "markdown",
   "metadata": {},
   "source": [
    "Full independent clones. Use copy.deepcopy()."
   ]
  },
  {
   "cell_type": "code",
   "execution_count": 13,
   "metadata": {},
   "outputs": [
    {
     "name": "stdout",
     "output_type": "stream",
     "text": [
      "previous list1:- [[1, 2, 3, 4, 5], [6, 7, 8, 9, 10]]\n",
      "previous list2:- [[1, 2, 3, 4, 5], [6, 7, 8, 9, 10]]\n",
      "later list1:- [[10, 2, 3, 4, 5], [6, 7, 8, 9, 10]]\n",
      "later list2:- [[1, 2, 3, 4, 5], [6, 7, 8, 9, 10]]\n"
     ]
    }
   ],
   "source": [
    "import copy\n",
    "list1 = [[1, 2, 3, 4, 5], [6, 7, 8, 9, 10]]\n",
    "list2 = copy.deepcopy(list1)\n",
    "print(\"previous list1:-\",list1)\n",
    "print(\"previous list2:-\",list2)\n",
    "\n",
    "## not affects the other list\n",
    "list1[0][0] = 10\n",
    "print(\"later list1:-\",list1)\n",
    "print(\"later list2:-\",list2)"
   ]
  },
  {
   "cell_type": "code",
   "execution_count": null,
   "metadata": {},
   "outputs": [],
   "source": []
  }
 ],
 "metadata": {
  "kernelspec": {
   "display_name": "Python 3",
   "language": "python",
   "name": "python3"
  },
  "language_info": {
   "codemirror_mode": {
    "name": "ipython",
    "version": 3
   },
   "file_extension": ".py",
   "mimetype": "text/x-python",
   "name": "python",
   "nbconvert_exporter": "python",
   "pygments_lexer": "ipython3",
   "version": "3.8.5"
  }
 },
 "nbformat": 4,
 "nbformat_minor": 4
}
